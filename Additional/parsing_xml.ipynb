{
 "cells": [
  {
   "cell_type": "markdown",
   "metadata": {},
   "source": [
    "# Parsing an xml BLAST output file containing multiple hits for multiple genes"
   ]
  },
  {
   "cell_type": "code",
   "execution_count": null,
   "metadata": {},
   "outputs": [],
   "source": [
    "import pandas as pd\n",
    "import re\n",
    "\n",
    "##set up the regular expressions for what you are looking for.\n",
    "rx_dict = {\n",
    "    'gene': re.compile(r'<Iteration_query-def>(?P<gene>.*)</Iteration_query-def>\\n'),\n",
    "    'hit': re.compile(r'<Hit_def>(?P<hit>.*)</Hit_def>\\n')\n",
    "}"
   ]
  },
  {
   "cell_type": "code",
   "execution_count": null,
   "metadata": {},
   "outputs": [],
   "source": [
    "def _parse_line(line):\n",
    "##do the regular expression search against all regular expression, return the key and the match\n",
    "    for key, rx in rx_dict.items():\n",
    "        match = rx.search(line)\n",
    "        if match:\n",
    "            return key, match\n",
    "    # if there are no matches\n",
    "    return None, None"
   ]
  },
  {
   "cell_type": "code",
   "execution_count": null,
   "metadata": {},
   "outputs": [],
   "source": [
    "def parse_file(filepath):\n",
    "    \n",
    "    data = []  # create an empty list to collect the data\n",
    "    # open the file and read through it line by line\n",
    "    with open(filepath, 'r') as file_object:\n",
    "        line = file_object.readline()\n",
    "        while line:\n",
    "            # at each line check for a match with a regex\n",
    "            key, match = _parse_line(line)\n",
    "            \n",
    "            if key == 'gene':\n",
    "                gene = match.group('gene')\n",
    "\n",
    "            if key == 'hit':\n",
    "                hit = match.group('hit')\n",
    "                hit = str(hit)\n",
    "                \n",
    "                row = {'Gene': gene,\n",
    "                       'Hit': hit}\n",
    "                    # append the dictionary to the data list\n",
    "                data.append(row)\n",
    "                line = file_object.readline()\n",
    "\n",
    "            line = file_object.readline()\n",
    "\n",
    "        # create a DataFrame\n",
    "        data = pd.DataFrame(data)\n",
    "        data = data.drop_duplicates()\n",
    "    return data"
   ]
  }
 ],
 "metadata": {
  "kernelspec": {
   "display_name": "Python 3",
   "language": "python",
   "name": "python3"
  },
  "language_info": {
   "codemirror_mode": {
    "name": "ipython",
    "version": 3
   },
   "file_extension": ".py",
   "mimetype": "text/x-python",
   "name": "python",
   "nbconvert_exporter": "python",
   "pygments_lexer": "ipython3",
   "version": "3.7.4"
  }
 },
 "nbformat": 4,
 "nbformat_minor": 2
}
